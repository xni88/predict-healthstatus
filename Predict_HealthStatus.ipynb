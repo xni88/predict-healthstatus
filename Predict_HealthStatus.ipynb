{
 "cells": [
  {
   "cell_type": "markdown",
   "metadata": {},
   "source": [
    "## Predicting Heath Status using Prescription Data alone"
   ]
  },
  {
   "cell_type": "markdown",
   "metadata": {},
   "source": [
    "##### Explore prescription data and merge with patient's health status table. I am building a supervised machine learning model to predict if patient has coexisting of hyperlipidemia and ischemia heart disease."
   ]
  },
  {
   "cell_type": "markdown",
   "metadata": {},
   "source": [
    "1. Select the eligibility of the patients\n",
    "2. One hot encoding is used to make features\n",
    "3. Cross validation\n",
    "3. Build predictive model"
   ]
  },
  {
   "cell_type": "code",
   "execution_count": 1,
   "metadata": {},
   "outputs": [],
   "source": [
    "#import required libraries\n",
    "import pandas as pd\n",
    "import numpy as np\n",
    "import matplotlib.pyplot as plt\n",
    "import seaborn as sns\n",
    "from sklearn.model_selection import train_test_split\n",
    "from sklearn.preprocessing import StandardScaler\n",
    "from sklearn.linear_model import LogisticRegression\n",
    "from sklearn.model_selection import StratifiedKFold\n",
    "from sklearn.feature_selection import RFECV\n",
    "from sklearn.feature_selection import RFE\n",
    "from sklearn.metrics import confusion_matrix\n",
    "from sklearn.metrics import balanced_accuracy_score\n",
    "from sklearn.metrics import precision_score\n",
    "from sklearn.metrics import recall_score\n",
    "from sklearn.metrics import f1_score\n",
    "import warnings\n",
    "warnings.simplefilter(action='ignore', category=FutureWarning)"
   ]
  },
  {
   "cell_type": "markdown",
   "metadata": {},
   "source": [
    "##### Select patient eligibility"
   ]
  },
  {
   "cell_type": "code",
   "execution_count": 2,
   "metadata": {},
   "outputs": [],
   "source": [
    "# import prescription data\n",
    "df=pd.read_csv('Prescriptions.csv')"
   ]
  },
  {
   "cell_type": "code",
   "execution_count": 3,
   "metadata": {},
   "outputs": [
    {
     "data": {
      "text/html": [
       "<div>\n",
       "<style scoped>\n",
       "    .dataframe tbody tr th:only-of-type {\n",
       "        vertical-align: middle;\n",
       "    }\n",
       "\n",
       "    .dataframe tbody tr th {\n",
       "        vertical-align: top;\n",
       "    }\n",
       "\n",
       "    .dataframe thead th {\n",
       "        text-align: right;\n",
       "    }\n",
       "</style>\n",
       "<table border=\"1\" class=\"dataframe\">\n",
       "  <thead>\n",
       "    <tr style=\"text-align: right;\">\n",
       "      <th></th>\n",
       "      <th>Patient_id</th>\n",
       "      <th>Prescription_date</th>\n",
       "      <th>drug_category</th>\n",
       "      <th>drug_group</th>\n",
       "      <th>drug_class</th>\n",
       "    </tr>\n",
       "  </thead>\n",
       "  <tbody>\n",
       "    <tr>\n",
       "      <th>0</th>\n",
       "      <td>P23556</td>\n",
       "      <td>2016-05-08</td>\n",
       "      <td>Estrogens</td>\n",
       "      <td>Estrogens</td>\n",
       "      <td>Estrogens</td>\n",
       "    </tr>\n",
       "    <tr>\n",
       "      <th>1</th>\n",
       "      <td>P87538</td>\n",
       "      <td>2016-12-05</td>\n",
       "      <td>Antiparkinson and Related Therapy Agents</td>\n",
       "      <td>Antiparkinson Dopaminergics</td>\n",
       "      <td>Nonergoline Dopamine Receptor Agonists</td>\n",
       "    </tr>\n",
       "  </tbody>\n",
       "</table>\n",
       "</div>"
      ],
      "text/plain": [
       "  Patient_id Prescription_date                             drug_category  \\\n",
       "0     P23556        2016-05-08                                 Estrogens   \n",
       "1     P87538        2016-12-05  Antiparkinson and Related Therapy Agents   \n",
       "\n",
       "                    drug_group                              drug_class  \n",
       "0                    Estrogens                               Estrogens  \n",
       "1  Antiparkinson Dopaminergics  Nonergoline Dopamine Receptor Agonists  "
      ]
     },
     "execution_count": 3,
     "metadata": {},
     "output_type": "execute_result"
    }
   ],
   "source": [
    "df.head(2)"
   ]
  },
  {
   "cell_type": "code",
   "execution_count": 4,
   "metadata": {},
   "outputs": [
    {
     "data": {
      "text/plain": [
       "82546"
      ]
     },
     "execution_count": 4,
     "metadata": {},
     "output_type": "execute_result"
    }
   ],
   "source": [
    "# Unique patient numbers\n",
    "df.Patient_id.nunique()"
   ]
  },
  {
   "cell_type": "code",
   "execution_count": 5,
   "metadata": {},
   "outputs": [
    {
     "data": {
      "text/plain": [
       "Hmg CoA Reductase Inhibitors                                4.945075e-02\n",
       "Selective Serotonin Reuptake Inhibitors (SSRIs)             4.645962e-02\n",
       "Thyroid Hormones                                            3.040734e-02\n",
       "Combination Contraceptives - Oral                           2.991322e-02\n",
       "Nonsteroidal Anti-Inflammatory Agents (NSAIDs)              2.477176e-02\n",
       "Anticonvulsants - Misc.                                     2.425322e-02\n",
       "Ace Inhibitors                                              2.388995e-02\n",
       "Benzodiazepines                                             2.257749e-02\n",
       "Biguanides                                                  2.093300e-02\n",
       "Calcium Channel Blockers                                    1.995451e-02\n",
       "Beta Blockers Cardio-Selective                              1.972991e-02\n",
       "Proton Pump Inhibitors                                      1.878560e-02\n",
       "Glucocorticosteroids                                        1.781004e-02\n",
       "Antidepressants - Misc.                                     1.699561e-02\n",
       "Angiotensin Ii Receptor Antagonists                         1.687257e-02\n",
       "Amphetamine Mixtures                                        1.657961e-02\n",
       "Azithromycin                                                1.633645e-02\n",
       "Serotonin-Norepinephrine Reuptake Inhibitors (SNRIs)        1.470564e-02\n",
       "Aminopenicillins                                            1.374668e-02\n",
       "Nasal Steroids                                              1.368418e-02\n",
       "Corticosteroids - Topical                                   1.312853e-02\n",
       "Central Muscle Relaxants                                    1.270765e-02\n",
       "Herpes Agents - Purine Analogues                            1.264613e-02\n",
       "Beta Adrenergics                                            1.197720e-02\n",
       "Opioid Agonists                                             1.179752e-02\n",
       "Viral Vaccines                                              1.139226e-02\n",
       "Non-Benzodiazepine - GABA-Receptor Modulators               1.106902e-02\n",
       "Anticonvulsants - Benzodiazepines                           1.038057e-02\n",
       "Leukotriene Receptor Antagonists                            1.027510e-02\n",
       "Penicillin Combinations                                     9.487036e-03\n",
       "                                                                ...     \n",
       "Ophthalmic Local Anesthetics                                9.765348e-07\n",
       "Local Anesthetics - Amides                                  9.765348e-07\n",
       "Wound Care Combinations                                     9.765348e-07\n",
       "Bulk Chemicals - Ri's                                       9.765348e-07\n",
       "Ophthalmic Decongestants                                    9.765348e-07\n",
       "Thickening Agents                                           9.765348e-07\n",
       "Prostaglandin - Impotence Agents                            9.765348e-07\n",
       "Skin Protectants                                            9.765348e-07\n",
       "Bulk Chemicals - Ta                                         9.765348e-07\n",
       "Expectorants                                                9.765348e-07\n",
       "Nasal Agents - Misc.                                        9.765348e-07\n",
       "Chemotherapy Adjuncts - Hyperuricemia Agents                9.765348e-07\n",
       "DPP-4 Inhibitor-Thiazolidinedione Combinations              9.765348e-07\n",
       "Nitrate & Vasodilator Combinations                          9.765348e-07\n",
       "Misc. Topical Combinations                                  9.765348e-07\n",
       "C1 Inhibitors                                               9.765348e-07\n",
       "Dry Mouth Agents and Artificial Saliva                      9.765348e-07\n",
       "Iodine Antiseptics                                          9.765348e-07\n",
       "Vitamin B-1                                                 9.765348e-07\n",
       "Astringents                                                 9.765348e-07\n",
       "Chlorine Antiseptics                                        9.765348e-07\n",
       "Systemic Decongestants                                      9.765348e-07\n",
       "Agents for Pheochromocytoma                                 9.765348e-07\n",
       "Interleukin Antagonists                                     9.765348e-07\n",
       "Granulocyte/Macrophage Colony-Stimulating Factor(GM-CSF)    9.765348e-07\n",
       "Monobactams                                                 9.765348e-07\n",
       "Misc. Devices                                               9.765348e-07\n",
       "Somatostatic Agents                                         9.765348e-07\n",
       "Solvents                                                    9.765348e-07\n",
       "Direct Renin Inhibitors & Thiazide/Thiazide-Like Comb       9.765348e-07\n",
       "Name: drug_class, Length: 604, dtype: float64"
      ]
     },
     "execution_count": 5,
     "metadata": {},
     "output_type": "execute_result"
    }
   ],
   "source": [
    "# distinct drug class that were prescribed\n",
    "df.drug_class.value_counts(normalize=True)"
   ]
  },
  {
   "cell_type": "code",
   "execution_count": 6,
   "metadata": {},
   "outputs": [],
   "source": [
    "# Find the max and min prescription date for each patient\n",
    "df_date = df.groupby(['Patient_id']).agg({'Prescription_date' : ['min', 'max']})\n",
    "df_date.columns = ['_'.join(col) for col in df_date.columns]"
   ]
  },
  {
   "cell_type": "code",
   "execution_count": 7,
   "metadata": {},
   "outputs": [],
   "source": [
    "# Create a column with day difference for the max and min date\n",
    "df_date['day_diff']=(pd.to_datetime(df_date.Prescription_date_max) - pd.to_datetime(df_date.Prescription_date_min)).dt.days"
   ]
  },
  {
   "cell_type": "code",
   "execution_count": 8,
   "metadata": {},
   "outputs": [
    {
     "data": {
      "text/html": [
       "<div>\n",
       "<style scoped>\n",
       "    .dataframe tbody tr th:only-of-type {\n",
       "        vertical-align: middle;\n",
       "    }\n",
       "\n",
       "    .dataframe tbody tr th {\n",
       "        vertical-align: top;\n",
       "    }\n",
       "\n",
       "    .dataframe thead th {\n",
       "        text-align: right;\n",
       "    }\n",
       "</style>\n",
       "<table border=\"1\" class=\"dataframe\">\n",
       "  <thead>\n",
       "    <tr style=\"text-align: right;\">\n",
       "      <th></th>\n",
       "      <th>Prescription_date_min</th>\n",
       "      <th>Prescription_date_max</th>\n",
       "      <th>day_diff</th>\n",
       "    </tr>\n",
       "    <tr>\n",
       "      <th>Patient_id</th>\n",
       "      <th></th>\n",
       "      <th></th>\n",
       "      <th></th>\n",
       "    </tr>\n",
       "  </thead>\n",
       "  <tbody>\n",
       "    <tr>\n",
       "      <th>P00001</th>\n",
       "      <td>2016-03-25</td>\n",
       "      <td>2016-03-25</td>\n",
       "      <td>0</td>\n",
       "    </tr>\n",
       "    <tr>\n",
       "      <th>P00002</th>\n",
       "      <td>2015-02-07</td>\n",
       "      <td>2015-12-26</td>\n",
       "      <td>322</td>\n",
       "    </tr>\n",
       "  </tbody>\n",
       "</table>\n",
       "</div>"
      ],
      "text/plain": [
       "           Prescription_date_min Prescription_date_max  day_diff\n",
       "Patient_id                                                      \n",
       "P00001                2016-03-25            2016-03-25         0\n",
       "P00002                2015-02-07            2015-12-26       322"
      ]
     },
     "execution_count": 8,
     "metadata": {},
     "output_type": "execute_result"
    }
   ],
   "source": [
    "df_date.head(2)"
   ]
  },
  {
   "cell_type": "code",
   "execution_count": 9,
   "metadata": {},
   "outputs": [],
   "source": [
    "# Select those patients having prescription drugs more than 100 days\n",
    "df_tem=df_date.loc[df_date['day_diff'] >= 100]"
   ]
  },
  {
   "cell_type": "code",
   "execution_count": 10,
   "metadata": {},
   "outputs": [],
   "source": [
    "# import table that has outcome variable\n",
    "df2=pd.read_csv('patient_status.csv')"
   ]
  },
  {
   "cell_type": "code",
   "execution_count": 11,
   "metadata": {},
   "outputs": [
    {
     "data": {
      "text/html": [
       "<div>\n",
       "<style scoped>\n",
       "    .dataframe tbody tr th:only-of-type {\n",
       "        vertical-align: middle;\n",
       "    }\n",
       "\n",
       "    .dataframe tbody tr th {\n",
       "        vertical-align: top;\n",
       "    }\n",
       "\n",
       "    .dataframe thead th {\n",
       "        text-align: right;\n",
       "    }\n",
       "</style>\n",
       "<table border=\"1\" class=\"dataframe\">\n",
       "  <thead>\n",
       "    <tr style=\"text-align: right;\">\n",
       "      <th></th>\n",
       "      <th>Patient_id</th>\n",
       "      <th>health_status</th>\n",
       "    </tr>\n",
       "  </thead>\n",
       "  <tbody>\n",
       "    <tr>\n",
       "      <th>0</th>\n",
       "      <td>Patient 00114</td>\n",
       "      <td>True</td>\n",
       "    </tr>\n",
       "    <tr>\n",
       "      <th>1</th>\n",
       "      <td>Patient 00183</td>\n",
       "      <td>True</td>\n",
       "    </tr>\n",
       "  </tbody>\n",
       "</table>\n",
       "</div>"
      ],
      "text/plain": [
       "      Patient_id  health_status\n",
       "0  Patient 00114           True\n",
       "1  Patient 00183           True"
      ]
     },
     "execution_count": 11,
     "metadata": {},
     "output_type": "execute_result"
    }
   ],
   "source": [
    "df2.head(2)"
   ]
  },
  {
   "cell_type": "code",
   "execution_count": 12,
   "metadata": {},
   "outputs": [],
   "source": [
    "# match the patient name with prescription data\n",
    "df2['Patient_id']=df2['Patient_id'].str.replace('Patient ','P')"
   ]
  },
  {
   "cell_type": "code",
   "execution_count": 13,
   "metadata": {},
   "outputs": [],
   "source": [
    "# set outcome variable name as 1 and 0\n",
    "df2['health_status'].replace({False: 0, True: 1}, inplace=True)"
   ]
  },
  {
   "cell_type": "code",
   "execution_count": 14,
   "metadata": {},
   "outputs": [],
   "source": [
    "# Merge dataframes of the two datasets\n",
    "df_new=pd.merge(df_tem,df2,on='Patient_id',how='inner')"
   ]
  },
  {
   "cell_type": "code",
   "execution_count": 15,
   "metadata": {},
   "outputs": [],
   "source": [
    "# Drop two columns from df_name\n",
    "df_new = df_new.drop(columns=['Prescription_date_min', 'Prescription_date_max'])"
   ]
  },
  {
   "cell_type": "code",
   "execution_count": 16,
   "metadata": {},
   "outputs": [
    {
     "data": {
      "text/plain": [
       "0    0.991884\n",
       "1    0.008116\n",
       "Name: health_status, dtype: float64"
      ]
     },
     "execution_count": 16,
     "metadata": {},
     "output_type": "execute_result"
    }
   ],
   "source": [
    "# Ratio of patients without coexisting dieases and with coexisting dieases\n",
    "df_new.health_status.value_counts(normalize=True)"
   ]
  },
  {
   "cell_type": "markdown",
   "metadata": {},
   "source": [
    "##### Prepare features"
   ]
  },
  {
   "cell_type": "code",
   "execution_count": 17,
   "metadata": {},
   "outputs": [],
   "source": [
    "# Make list of drugs that each patient take\n",
    "df_drugs = df.groupby('Patient_id')['drug_class'].agg(lambda x:\n",
    "                                                        list([y for y in x if y is not np.nan])).reset_index()"
   ]
  },
  {
   "cell_type": "code",
   "execution_count": 18,
   "metadata": {},
   "outputs": [],
   "source": [
    "# Merge dataframes\n",
    "df_all=pd.merge(df_drugs,df_new,on='Patient_id',how='inner')"
   ]
  },
  {
   "cell_type": "code",
   "execution_count": 19,
   "metadata": {},
   "outputs": [
    {
     "data": {
      "text/html": [
       "<div>\n",
       "<style scoped>\n",
       "    .dataframe tbody tr th:only-of-type {\n",
       "        vertical-align: middle;\n",
       "    }\n",
       "\n",
       "    .dataframe tbody tr th {\n",
       "        vertical-align: top;\n",
       "    }\n",
       "\n",
       "    .dataframe thead th {\n",
       "        text-align: right;\n",
       "    }\n",
       "</style>\n",
       "<table border=\"1\" class=\"dataframe\">\n",
       "  <thead>\n",
       "    <tr style=\"text-align: right;\">\n",
       "      <th></th>\n",
       "      <th>Patient_id</th>\n",
       "      <th>drug_class</th>\n",
       "      <th>day_diff</th>\n",
       "      <th>health_status</th>\n",
       "    </tr>\n",
       "  </thead>\n",
       "  <tbody>\n",
       "    <tr>\n",
       "      <th>0</th>\n",
       "      <td>P00002</td>\n",
       "      <td>[Viral Vaccines, Viral Vaccines, Tetracyclines...</td>\n",
       "      <td>322</td>\n",
       "      <td>0</td>\n",
       "    </tr>\n",
       "    <tr>\n",
       "      <th>1</th>\n",
       "      <td>P00006</td>\n",
       "      <td>[Thyroid Hormones, Thyroid Hormones, Thyroid H...</td>\n",
       "      <td>103</td>\n",
       "      <td>0</td>\n",
       "    </tr>\n",
       "  </tbody>\n",
       "</table>\n",
       "</div>"
      ],
      "text/plain": [
       "  Patient_id                                         drug_class  day_diff  \\\n",
       "0     P00002  [Viral Vaccines, Viral Vaccines, Tetracyclines...       322   \n",
       "1     P00006  [Thyroid Hormones, Thyroid Hormones, Thyroid H...       103   \n",
       "\n",
       "   health_status  \n",
       "0              0  \n",
       "1              0  "
      ]
     },
     "execution_count": 19,
     "metadata": {},
     "output_type": "execute_result"
    }
   ],
   "source": [
    "df_all.head(2)"
   ]
  },
  {
   "cell_type": "code",
   "execution_count": 20,
   "metadata": {},
   "outputs": [],
   "source": [
    "# Do dummy encoding for drug class\n",
    "df_all=df_all.drop('drug_class', 1).join(df_all.drug_class.str.join('|').str.get_dummies())"
   ]
  },
  {
   "cell_type": "code",
   "execution_count": 21,
   "metadata": {},
   "outputs": [],
   "source": [
    "# Create a new column to count the number of drugs each patient take\n",
    "df_all['n_drugs']=df_all[df_all == 1].sum(axis=1)"
   ]
  },
  {
   "cell_type": "code",
   "execution_count": 22,
   "metadata": {},
   "outputs": [
    {
     "data": {
      "text/html": [
       "<div>\n",
       "<style scoped>\n",
       "    .dataframe tbody tr th:only-of-type {\n",
       "        vertical-align: middle;\n",
       "    }\n",
       "\n",
       "    .dataframe tbody tr th {\n",
       "        vertical-align: top;\n",
       "    }\n",
       "\n",
       "    .dataframe thead th {\n",
       "        text-align: right;\n",
       "    }\n",
       "</style>\n",
       "<table border=\"1\" class=\"dataframe\">\n",
       "  <thead>\n",
       "    <tr style=\"text-align: right;\">\n",
       "      <th></th>\n",
       "      <th>Patient_id</th>\n",
       "      <th>day_diff</th>\n",
       "      <th>health_status</th>\n",
       "      <th>5-Alpha Reductase Inhibitors</th>\n",
       "      <th>5-HT3 Receptor Antagonists</th>\n",
       "      <th>5-Lipoxygenase Inhibitors</th>\n",
       "      <th>Ace Inhibitor &amp; Calcium Channel Blocker Combinations</th>\n",
       "      <th>Ace Inhibitors</th>\n",
       "      <th>Ace Inhibitors &amp; Thiazide/Thiazide-Like</th>\n",
       "      <th>Acne Antibiotics</th>\n",
       "      <th>...</th>\n",
       "      <th>Viscosupplements</th>\n",
       "      <th>Vitamin B-1</th>\n",
       "      <th>Vitamin B-6</th>\n",
       "      <th>Vitamin C</th>\n",
       "      <th>Vitamin D</th>\n",
       "      <th>Vitamin K</th>\n",
       "      <th>Wound Care - Growth Factor Agents</th>\n",
       "      <th>Wound Dressings</th>\n",
       "      <th>Xanthines</th>\n",
       "      <th>n_drugs</th>\n",
       "    </tr>\n",
       "  </thead>\n",
       "  <tbody>\n",
       "    <tr>\n",
       "      <th>0</th>\n",
       "      <td>P00002</td>\n",
       "      <td>322</td>\n",
       "      <td>0</td>\n",
       "      <td>0</td>\n",
       "      <td>0</td>\n",
       "      <td>0</td>\n",
       "      <td>0</td>\n",
       "      <td>0</td>\n",
       "      <td>0</td>\n",
       "      <td>0</td>\n",
       "      <td>...</td>\n",
       "      <td>0</td>\n",
       "      <td>0</td>\n",
       "      <td>0</td>\n",
       "      <td>0</td>\n",
       "      <td>0</td>\n",
       "      <td>0</td>\n",
       "      <td>0</td>\n",
       "      <td>0</td>\n",
       "      <td>0</td>\n",
       "      <td>3.0</td>\n",
       "    </tr>\n",
       "    <tr>\n",
       "      <th>1</th>\n",
       "      <td>P00006</td>\n",
       "      <td>103</td>\n",
       "      <td>0</td>\n",
       "      <td>0</td>\n",
       "      <td>0</td>\n",
       "      <td>0</td>\n",
       "      <td>0</td>\n",
       "      <td>0</td>\n",
       "      <td>0</td>\n",
       "      <td>0</td>\n",
       "      <td>...</td>\n",
       "      <td>0</td>\n",
       "      <td>0</td>\n",
       "      <td>0</td>\n",
       "      <td>0</td>\n",
       "      <td>0</td>\n",
       "      <td>0</td>\n",
       "      <td>0</td>\n",
       "      <td>0</td>\n",
       "      <td>0</td>\n",
       "      <td>7.0</td>\n",
       "    </tr>\n",
       "  </tbody>\n",
       "</table>\n",
       "<p>2 rows × 585 columns</p>\n",
       "</div>"
      ],
      "text/plain": [
       "  Patient_id  day_diff  health_status  5-Alpha Reductase Inhibitors  \\\n",
       "0     P00002       322              0                             0   \n",
       "1     P00006       103              0                             0   \n",
       "\n",
       "   5-HT3 Receptor Antagonists  5-Lipoxygenase Inhibitors  \\\n",
       "0                           0                          0   \n",
       "1                           0                          0   \n",
       "\n",
       "   Ace Inhibitor & Calcium Channel Blocker Combinations  Ace Inhibitors  \\\n",
       "0                                                  0                  0   \n",
       "1                                                  0                  0   \n",
       "\n",
       "   Ace Inhibitors & Thiazide/Thiazide-Like  Acne Antibiotics  ...  \\\n",
       "0                                        0                 0  ...   \n",
       "1                                        0                 0  ...   \n",
       "\n",
       "   Viscosupplements  Vitamin B-1  Vitamin B-6  Vitamin C  Vitamin D  \\\n",
       "0                 0            0            0          0          0   \n",
       "1                 0            0            0          0          0   \n",
       "\n",
       "   Vitamin K  Wound Care - Growth Factor Agents  Wound Dressings  Xanthines  \\\n",
       "0          0                                  0                0          0   \n",
       "1          0                                  0                0          0   \n",
       "\n",
       "   n_drugs  \n",
       "0      3.0  \n",
       "1      7.0  \n",
       "\n",
       "[2 rows x 585 columns]"
      ]
     },
     "execution_count": 22,
     "metadata": {},
     "output_type": "execute_result"
    }
   ],
   "source": [
    "df_all.head(2)"
   ]
  },
  {
   "cell_type": "markdown",
   "metadata": {},
   "source": [
    "##### Cross validation and find best subset of features"
   ]
  },
  {
   "cell_type": "code",
   "execution_count": 23,
   "metadata": {},
   "outputs": [],
   "source": [
    "# Keep candidate features\n",
    "X=df_all.drop(columns=['health_status','Patient_id'])"
   ]
  },
  {
   "cell_type": "code",
   "execution_count": 24,
   "metadata": {},
   "outputs": [],
   "source": [
    "# outcome variable\n",
    "y=df_all.health_status"
   ]
  },
  {
   "cell_type": "code",
   "execution_count": 25,
   "metadata": {},
   "outputs": [],
   "source": [
    "# Splitting the dataset into the training set and test set\n",
    "X_train, X_test, y_train, y_test = train_test_split(X, y, test_size = 0.2, shuffle=True, random_state=20)"
   ]
  },
  {
   "cell_type": "code",
   "execution_count": 26,
   "metadata": {},
   "outputs": [],
   "source": [
    "# Feature scaling\n",
    "sc = StandardScaler()\n",
    "X_train = sc.fit_transform(X_train)\n",
    "X_test = sc.transform(X_test)"
   ]
  },
  {
   "cell_type": "code",
   "execution_count": 27,
   "metadata": {},
   "outputs": [
    {
     "data": {
      "text/plain": [
       "LogisticRegression(C=1.0, class_weight='balanced', dual=False,\n",
       "                   fit_intercept=True, intercept_scaling=1, l1_ratio=None,\n",
       "                   max_iter=100, multi_class='warn', n_jobs=None, penalty='l2',\n",
       "                   random_state=None, solver='warn', tol=0.0001, verbose=0,\n",
       "                   warm_start=False)"
      ]
     },
     "execution_count": 27,
     "metadata": {},
     "output_type": "execute_result"
    }
   ],
   "source": [
    "# Fitting Logistic Regression to the training set\n",
    "classifier = LogisticRegression(class_weight='balanced')\n",
    "classifier.fit(X_train, y_train)"
   ]
  },
  {
   "cell_type": "code",
   "execution_count": 28,
   "metadata": {},
   "outputs": [
    {
     "data": {
      "text/plain": [
       "RFECV(cv=StratifiedKFold(n_splits=5, random_state=1, shuffle=True),\n",
       "      estimator=LogisticRegression(C=1.0, class_weight='balanced', dual=False,\n",
       "                                   fit_intercept=True, intercept_scaling=1,\n",
       "                                   l1_ratio=None, max_iter=100,\n",
       "                                   multi_class='warn', n_jobs=None,\n",
       "                                   penalty='l2', random_state=None,\n",
       "                                   solver='warn', tol=0.0001, verbose=0,\n",
       "                                   warm_start=False),\n",
       "      min_features_to_select=1, n_jobs=None, scoring='f1', step=1, verbose=0)"
      ]
     },
     "execution_count": 28,
     "metadata": {},
     "output_type": "execute_result"
    }
   ],
   "source": [
    "# Apply recursive feature elimination with cross-validation to select the best number of features\n",
    "# f1 is chosen as the scoring\n",
    "rfecv = RFECV(estimator=classifier, step=1, cv=StratifiedKFold(n_splits=5, shuffle=True, random_state=1), scoring='f1')\n",
    "rfecv.fit(X_train, y_train)"
   ]
  },
  {
   "cell_type": "code",
   "execution_count": 29,
   "metadata": {},
   "outputs": [
    {
     "name": "stdout",
     "output_type": "stream",
     "text": [
      "Optimal number of features : 515\n"
     ]
    }
   ],
   "source": [
    "print(\"Optimal number of features : %d\" % rfecv.n_features_)"
   ]
  },
  {
   "cell_type": "code",
   "execution_count": 32,
   "metadata": {},
   "outputs": [
    {
     "data": {
      "image/png": "[encoded data removed]",
      "text/plain": [
       "<Figure size 576x432 with 1 Axes>"
      ]
     },
     "metadata": {
      "needs_background": "light"
     },
     "output_type": "display_data"
    }
   ],
   "source": [
    "# Plot number of features VS. cross-validation scores\n",
    "plt.figure(figsize=(8,6))\n",
    "plt.xlabel(\"Number of features selected\", size=12)\n",
    "plt.ylabel(\"Cross validation score (f1)\", size=12)\n",
    "plt.plot(range(1, len(rfecv.grid_scores_) + 1), rfecv.grid_scores_)\n",
    "plt.show()"
   ]
  },
  {
   "cell_type": "code",
   "execution_count": 40,
   "metadata": {},
   "outputs": [
    {
     "data": {
      "text/html": [
       "<div>\n",
       "<style scoped>\n",
       "    .dataframe tbody tr th:only-of-type {\n",
       "        vertical-align: middle;\n",
       "    }\n",
       "\n",
       "    .dataframe tbody tr th {\n",
       "        vertical-align: top;\n",
       "    }\n",
       "\n",
       "    .dataframe thead th {\n",
       "        text-align: right;\n",
       "    }\n",
       "</style>\n",
       "<table border=\"1\" class=\"dataframe\">\n",
       "  <thead>\n",
       "    <tr style=\"text-align: right;\">\n",
       "      <th></th>\n",
       "      <th>Rank</th>\n",
       "      <th>Scores</th>\n",
       "    </tr>\n",
       "  </thead>\n",
       "  <tbody>\n",
       "    <tr>\n",
       "      <th>Soluble Tumor Necrosis Factor Receptor Agents</th>\n",
       "      <td>1</td>\n",
       "      <td>0.660158</td>\n",
       "    </tr>\n",
       "    <tr>\n",
       "      <th>Sphingosine 1-Phosphate (S1P) Receptor Modulators</th>\n",
       "      <td>1</td>\n",
       "      <td>0.659249</td>\n",
       "    </tr>\n",
       "    <tr>\n",
       "      <th>Spacer/Aerosol-Holding Chambers &amp; Supplies</th>\n",
       "      <td>1</td>\n",
       "      <td>0.659111</td>\n",
       "    </tr>\n",
       "    <tr>\n",
       "      <th>Somatostatic Agents</th>\n",
       "      <td>48</td>\n",
       "      <td>0.659111</td>\n",
       "    </tr>\n",
       "    <tr>\n",
       "      <th>Sodium-Glucose Co-Transporter 2 (SGLT2) Inhibitors</th>\n",
       "      <td>1</td>\n",
       "      <td>0.658931</td>\n",
       "    </tr>\n",
       "    <tr>\n",
       "      <th>Steroid Inhalants</th>\n",
       "      <td>1</td>\n",
       "      <td>0.658114</td>\n",
       "    </tr>\n",
       "    <tr>\n",
       "      <th>Sodium-Glucose Co-Transporter 2 Inhibitor-Biguanide Comb</th>\n",
       "      <td>1</td>\n",
       "      <td>0.657946</td>\n",
       "    </tr>\n",
       "    <tr>\n",
       "      <th>Sodium</th>\n",
       "      <td>1</td>\n",
       "      <td>0.657946</td>\n",
       "    </tr>\n",
       "    <tr>\n",
       "      <th>Steroid-Local Anesthetic Combinations</th>\n",
       "      <td>1</td>\n",
       "      <td>0.656997</td>\n",
       "    </tr>\n",
       "    <tr>\n",
       "      <th>Selective cGMP Phosphodiesterase Type 5 Inhibitors</th>\n",
       "      <td>1</td>\n",
       "      <td>0.655335</td>\n",
       "    </tr>\n",
       "  </tbody>\n",
       "</table>\n",
       "</div>"
      ],
      "text/plain": [
       "                                                    Rank    Scores\n",
       "Soluble Tumor Necrosis Factor Receptor Agents          1  0.660158\n",
       "Sphingosine 1-Phosphate (S1P) Receptor Modulators      1  0.659249\n",
       "Spacer/Aerosol-Holding Chambers & Supplies             1  0.659111\n",
       "Somatostatic Agents                                   48  0.659111\n",
       "Sodium-Glucose Co-Transporter 2 (SGLT2) Inhibitors     1  0.658931\n",
       "Steroid Inhalants                                      1  0.658114\n",
       "Sodium-Glucose Co-Transporter 2 Inhibitor-Bigua...     1  0.657946\n",
       "Sodium                                                 1  0.657946\n",
       "Steroid-Local Anesthetic Combinations                  1  0.656997\n",
       "Selective cGMP Phosphodiesterase Type 5 Inhibitors     1  0.655335"
      ]
     },
     "execution_count": 40,
     "metadata": {},
     "output_type": "execute_result"
    }
   ],
   "source": [
    "# Examples of some ranked features and scores\n",
    "list_of_tuples = list(zip(rfecv.ranking_, rfecv.grid_scores_))\n",
    "rf_df = pd.DataFrame(list_of_tuples, index=X.columns, columns=['Rank','Scores']).sort_values(by='Scores',ascending=False)\n",
    "rf_df.head(10)"
   ]
  },
  {
   "cell_type": "code",
   "execution_count": 42,
   "metadata": {},
   "outputs": [],
   "source": [
    "# select features\n",
    "rfe = RFE(classifier, rfecv.n_features_, step=1)\n",
    "rfe = rfe.fit(X_train, y_train.values.ravel())"
   ]
  },
  {
   "cell_type": "markdown",
   "metadata": {},
   "source": [
    "##### Build the final predictive models using the 515 features to build the predictive the model"
   ]
  },
  {
   "cell_type": "code",
   "execution_count": 48,
   "metadata": {},
   "outputs": [],
   "source": [
    "# Use the optimal subset of features to prepare for training\n",
    "X_new=X.loc[:, rfe.support_]\n",
    "y=df_all.health_status"
   ]
  },
  {
   "cell_type": "code",
   "execution_count": 49,
   "metadata": {},
   "outputs": [],
   "source": [
    "# Splitting the dataset into the training set and test set\n",
    "X_train_new, X_test_new, y_train_new, y_test_new = train_test_split(X_new, y, test_size = 0.2, shuffle=True, random_state=22)"
   ]
  },
  {
   "cell_type": "code",
   "execution_count": 50,
   "metadata": {},
   "outputs": [],
   "source": [
    "# Feature scaling\n",
    "sc = StandardScaler()\n",
    "X_train_new = sc.fit_transform(X_train_new)\n",
    "X_test_new = sc.transform(X_test_new)"
   ]
  },
  {
   "cell_type": "code",
   "execution_count": 51,
   "metadata": {},
   "outputs": [
    {
     "data": {
      "text/plain": [
       "LogisticRegression(C=1.0, class_weight='balanced', dual=False,\n",
       "                   fit_intercept=True, intercept_scaling=1, l1_ratio=None,\n",
       "                   max_iter=100, multi_class='warn', n_jobs=None, penalty='l2',\n",
       "                   random_state=2, solver='warn', tol=0.0001, verbose=0,\n",
       "                   warm_start=False)"
      ]
     },
     "execution_count": 51,
     "metadata": {},
     "output_type": "execute_result"
    }
   ],
   "source": [
    "# Fitting logistic regression to the new training set\n",
    "lr=LogisticRegression(class_weight='balanced', random_state=2)\n",
    "lr.fit(X_train_new, y_train_new)"
   ]
  },
  {
   "cell_type": "code",
   "execution_count": 54,
   "metadata": {},
   "outputs": [],
   "source": [
    "# Predicting the test set results\n",
    "y_pred_new = lr.predict(X_test_new)"
   ]
  },
  {
   "cell_type": "code",
   "execution_count": 55,
   "metadata": {},
   "outputs": [
    {
     "data": {
      "text/html": [
       "<div>\n",
       "<style scoped>\n",
       "    .dataframe tbody tr th:only-of-type {\n",
       "        vertical-align: middle;\n",
       "    }\n",
       "\n",
       "    .dataframe tbody tr th {\n",
       "        vertical-align: top;\n",
       "    }\n",
       "\n",
       "    .dataframe thead th {\n",
       "        text-align: right;\n",
       "    }\n",
       "</style>\n",
       "<table border=\"1\" class=\"dataframe\">\n",
       "  <thead>\n",
       "    <tr style=\"text-align: right;\">\n",
       "      <th>Predicted</th>\n",
       "      <th>0</th>\n",
       "      <th>1</th>\n",
       "      <th>All</th>\n",
       "    </tr>\n",
       "    <tr>\n",
       "      <th>True</th>\n",
       "      <th></th>\n",
       "      <th></th>\n",
       "      <th></th>\n",
       "    </tr>\n",
       "  </thead>\n",
       "  <tbody>\n",
       "    <tr>\n",
       "      <th>0</th>\n",
       "      <td>7248</td>\n",
       "      <td>26</td>\n",
       "      <td>7274</td>\n",
       "    </tr>\n",
       "    <tr>\n",
       "      <th>1</th>\n",
       "      <td>9</td>\n",
       "      <td>61</td>\n",
       "      <td>70</td>\n",
       "    </tr>\n",
       "    <tr>\n",
       "      <th>All</th>\n",
       "      <td>7257</td>\n",
       "      <td>87</td>\n",
       "      <td>7344</td>\n",
       "    </tr>\n",
       "  </tbody>\n",
       "</table>\n",
       "</div>"
      ],
      "text/plain": [
       "Predicted     0   1   All\n",
       "True                     \n",
       "0          7248  26  7274\n",
       "1             9  61    70\n",
       "All        7257  87  7344"
      ]
     },
     "execution_count": 55,
     "metadata": {},
     "output_type": "execute_result"
    }
   ],
   "source": [
    "# Making the Confusion Matrix\n",
    "from sklearn.metrics import confusion_matrix\n",
    "confusion_matrix = confusion_matrix(y_test_new, y_pred_new)\n",
    "pd.crosstab(y_test_new, y_pred_new, rownames=['True'], colnames=['Predicted'], margins=True)"
   ]
  },
  {
   "cell_type": "code",
   "execution_count": 56,
   "metadata": {},
   "outputs": [
    {
     "data": {
      "image/png": "[encoded data removed]",
      "text/plain": [
       "<Figure size 432x288 with 1 Axes>"
      ]
     },
     "metadata": {
      "needs_background": "light"
     },
     "output_type": "display_data"
    }
   ],
   "source": [
    "# Plot a confusion matrix\n",
    "from sklearn.metrics import confusion_matrix\n",
    "cm=confusion_matrix(y_test_new,y_pred_new)\n",
    "plt.clf()\n",
    "plt.imshow(cm,cmap=plt.cm.Wistia)\n",
    "names=['Negative','Positive']\n",
    "plt.title('Coexisting of hyperlipidemia and ischemic heart disease')\n",
    "plt.ylabel('True label', size=12)\n",
    "plt.xlabel('Predicted label', size=12)\n",
    "tick_marks=np.arange(len(names))\n",
    "plt.xticks(tick_marks,names)\n",
    "plt.yticks(tick_marks,names)\n",
    "s=[['TN','FP'],['FN','TP']]\n",
    "for i in range(2):\n",
    "    for j in range(2):\n",
    "        plt.text(j,i,str(s[i][j]+\" = \"+str(cm[i][j])))\n",
    "plt.show()"
   ]
  },
  {
   "cell_type": "code",
   "execution_count": 57,
   "metadata": {},
   "outputs": [
    {
     "name": "stdout",
     "output_type": "stream",
     "text": [
      "Balanced accuracy: 0.933927\n",
      "Precision: 0.701149\n",
      "Recall: 0.871429\n",
      "F1 score: 0.777070\n"
     ]
    }
   ],
   "source": [
    "# Some validation metrics\n",
    "# accuracy: (tp + tn) / (p + n)\n",
    "balanced_accuracy = balanced_accuracy_score(y_test_new, y_pred_new)\n",
    "print('Balanced accuracy: %f' % balanced_accuracy)\n",
    "# precision tp / (tp + fp)\n",
    "precision = precision_score(y_test_new, y_pred_new)\n",
    "print('Precision: %f' % precision)\n",
    "# recall: tp / (tp + fn)\n",
    "recall = recall_score(y_test_new, y_pred_new)\n",
    "print('Recall: %f' % recall)\n",
    "# f1: 2 tp / (2 tp + fp + fn)\n",
    "f1 = f1_score(y_test_new, y_pred_new)\n",
    "print('F1 score: %f' % f1)"
   ]
  },
  {
   "cell_type": "markdown",
   "metadata": {},
   "source": [
    "Conclusion: With a patient's prescription data, I am able to apply a logistic regression model to predict the coexisting of hyperlipidemia and ischemic heart disease among patients. Cross validation was done on the training data and best feature set was selected for achieving the optimal outcome.  "
   ]
  }
 ],
 "metadata": {
  "kernelspec": {
   "display_name": "Python 3",
   "language": "python",
   "name": "python3"
  },
  "language_info": {
   "codemirror_mode": {
    "name": "ipython",
    "version": 3
   },
   "file_extension": ".py",
   "mimetype": "text/x-python",
   "name": "python",
   "nbconvert_exporter": "python",
   "pygments_lexer": "ipython3",
   "version": "3.7.3"
  }
 },
 "nbformat": 4,
 "nbformat_minor": 2
}
